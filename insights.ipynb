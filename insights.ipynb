{
 "cells": [
  {
   "cell_type": "code",
   "execution_count": 1,
   "metadata": {},
   "outputs": [],
   "source": [
    "# Carga de librerías\n",
    "import pandas as pd"
   ]
  },
  {
   "cell_type": "code",
   "execution_count": 2,
   "metadata": {},
   "outputs": [],
   "source": [
    "# Leer archivos CSV\n",
    "calendar = pd.read_csv('m5-forecasting-accuracy/calendar.csv')\n",
    "sales_train_val = pd.read_csv('m5-forecasting-accuracy/sales_train_validation.csv')\n",
    "sell_prices = pd.read_csv('m5-forecasting-accuracy/sell_prices.csv')\n",
    "population_data = pd.read_csv('m5-forecasting-accuracy/population_data.csv')"
   ]
  },
  {
   "cell_type": "code",
   "execution_count": 3,
   "metadata": {},
   "outputs": [
    {
     "name": "stdout",
     "output_type": "stream",
     "text": [
      "Shape de calendar: (1969, 14)\n",
      "Shape de sell_prices: (6841121, 4)\n",
      "Shape de sales_train_val: (30490, 1919)\n",
      "\n",
      "Primeras filas de calendar:\n",
      "         date  wm_yr_wk    weekday  wday  month  year    d event_name_1  \\\n",
      "0  2011-01-29     11101   Saturday     1      1  2011  d_1          NaN   \n",
      "1  2011-01-30     11101     Sunday     2      1  2011  d_2          NaN   \n",
      "2  2011-01-31     11101     Monday     3      1  2011  d_3          NaN   \n",
      "3  2011-02-01     11101    Tuesday     4      2  2011  d_4          NaN   \n",
      "4  2011-02-02     11101  Wednesday     5      2  2011  d_5          NaN   \n",
      "\n",
      "  event_type_1 event_name_2 event_type_2  snap_CA  snap_TX  snap_WI  \n",
      "0          NaN          NaN          NaN        0        0        0  \n",
      "1          NaN          NaN          NaN        0        0        0  \n",
      "2          NaN          NaN          NaN        0        0        0  \n",
      "3          NaN          NaN          NaN        1        1        0  \n",
      "4          NaN          NaN          NaN        1        0        1  \n",
      "\n",
      "Primeras filas de sell_prices:\n",
      "  store_id        item_id  wm_yr_wk  sell_price\n",
      "0     CA_1  HOBBIES_1_001     11325        9.58\n",
      "1     CA_1  HOBBIES_1_001     11326        9.58\n",
      "2     CA_1  HOBBIES_1_001     11327        8.26\n",
      "3     CA_1  HOBBIES_1_001     11328        8.26\n",
      "4     CA_1  HOBBIES_1_001     11329        8.26\n",
      "\n",
      "Primeras filas de sales_train_val:\n",
      "                              id        item_id    dept_id   cat_id store_id  \\\n",
      "0  HOBBIES_1_001_CA_1_validation  HOBBIES_1_001  HOBBIES_1  HOBBIES     CA_1   \n",
      "1  HOBBIES_1_002_CA_1_validation  HOBBIES_1_002  HOBBIES_1  HOBBIES     CA_1   \n",
      "2  HOBBIES_1_003_CA_1_validation  HOBBIES_1_003  HOBBIES_1  HOBBIES     CA_1   \n",
      "3  HOBBIES_1_004_CA_1_validation  HOBBIES_1_004  HOBBIES_1  HOBBIES     CA_1   \n",
      "4  HOBBIES_1_005_CA_1_validation  HOBBIES_1_005  HOBBIES_1  HOBBIES     CA_1   \n",
      "\n",
      "  state_id  d_1  d_2  d_3  d_4  \n",
      "0       CA    0    0    0    0  \n",
      "1       CA    0    0    0    0  \n",
      "2       CA    0    0    0    0  \n",
      "3       CA    0    0    0    0  \n",
      "4       CA    0    0    0    0  \n",
      "\n",
      "Tipos de datos de calendar:\n",
      "date            object\n",
      "wm_yr_wk         int64\n",
      "weekday         object\n",
      "wday             int64\n",
      "month            int64\n",
      "year             int64\n",
      "d               object\n",
      "event_name_1    object\n",
      "event_type_1    object\n",
      "event_name_2    object\n",
      "event_type_2    object\n",
      "snap_CA          int64\n",
      "snap_TX          int64\n",
      "snap_WI          int64\n",
      "dtype: object\n",
      "\n",
      "Tipos de datos de sell_prices:\n",
      "store_id       object\n",
      "item_id        object\n",
      "wm_yr_wk        int64\n",
      "sell_price    float64\n",
      "dtype: object\n",
      "\n",
      "Tipos de datos de sales_train_val:\n",
      "id          object\n",
      "item_id     object\n",
      "dept_id     object\n",
      "cat_id      object\n",
      "store_id    object\n",
      "             ...  \n",
      "d_1909       int64\n",
      "d_1910       int64\n",
      "d_1911       int64\n",
      "d_1912       int64\n",
      "d_1913       int64\n",
      "Length: 1919, dtype: object\n",
      "\n",
      "Estadísticas de calendar:\n",
      "              date      wm_yr_wk   weekday         wday        month  \\\n",
      "count         1969   1969.000000      1969  1969.000000  1969.000000   \n",
      "unique        1969           NaN         7          NaN          NaN   \n",
      "top     2011-01-29           NaN  Saturday          NaN          NaN   \n",
      "freq             1           NaN       282          NaN          NaN   \n",
      "mean           NaN  11347.086338       NaN     3.997461     6.325546   \n",
      "std            NaN    155.277043       NaN     2.001141     3.416864   \n",
      "min            NaN  11101.000000       NaN     1.000000     1.000000   \n",
      "25%            NaN  11219.000000       NaN     2.000000     3.000000   \n",
      "50%            NaN  11337.000000       NaN     4.000000     6.000000   \n",
      "75%            NaN  11502.000000       NaN     6.000000     9.000000   \n",
      "max            NaN  11621.000000       NaN     7.000000    12.000000   \n",
      "\n",
      "               year     d event_name_1 event_type_1  event_name_2  \\\n",
      "count   1969.000000  1969          162          162             5   \n",
      "unique          NaN  1969           30            4             4   \n",
      "top             NaN   d_1    SuperBowl    Religious  Father's day   \n",
      "freq            NaN     1            6           55             2   \n",
      "mean    2013.288471   NaN          NaN          NaN           NaN   \n",
      "std        1.580198   NaN          NaN          NaN           NaN   \n",
      "min     2011.000000   NaN          NaN          NaN           NaN   \n",
      "25%     2012.000000   NaN          NaN          NaN           NaN   \n",
      "50%     2013.000000   NaN          NaN          NaN           NaN   \n",
      "75%     2015.000000   NaN          NaN          NaN           NaN   \n",
      "max     2016.000000   NaN          NaN          NaN           NaN   \n",
      "\n",
      "       event_type_2      snap_CA      snap_TX      snap_WI  \n",
      "count             5  1969.000000  1969.000000  1969.000000  \n",
      "unique            2          NaN          NaN          NaN  \n",
      "top        Cultural          NaN          NaN          NaN  \n",
      "freq              4          NaN          NaN          NaN  \n",
      "mean            NaN     0.330117     0.330117     0.330117  \n",
      "std             NaN     0.470374     0.470374     0.470374  \n",
      "min             NaN     0.000000     0.000000     0.000000  \n",
      "25%             NaN     0.000000     0.000000     0.000000  \n",
      "50%             NaN     0.000000     0.000000     0.000000  \n",
      "75%             NaN     1.000000     1.000000     1.000000  \n",
      "max             NaN     1.000000     1.000000     1.000000  \n",
      "\n",
      "Estadísticas de sell_prices:\n",
      "       store_id      item_id      wm_yr_wk    sell_price\n",
      "count   6841121      6841121  6.841121e+06  6.841121e+06\n",
      "unique       10         3049           NaN           NaN\n",
      "top        TX_2  FOODS_3_587           NaN           NaN\n",
      "freq     701214         2820           NaN           NaN\n",
      "mean        NaN          NaN  1.138294e+04  4.410952e+00\n",
      "std         NaN          NaN  1.486100e+02  3.408814e+00\n",
      "min         NaN          NaN  1.110100e+04  1.000000e-02\n",
      "25%         NaN          NaN  1.124700e+04  2.180000e+00\n",
      "50%         NaN          NaN  1.141100e+04  3.470000e+00\n",
      "75%         NaN          NaN  1.151700e+04  5.840000e+00\n",
      "max         NaN          NaN  1.162100e+04  1.073200e+02\n",
      "\n",
      "Estadísticas de sales_train_val:\n",
      "                                   id        item_id  dept_id cat_id store_id  \\\n",
      "count                           30490          30490    30490  30490    30490   \n",
      "unique                          30490           3049        7      3       10   \n",
      "top     HOBBIES_1_001_CA_1_validation  HOBBIES_1_001  FOODS_3  FOODS     CA_1   \n",
      "freq                                1             10     8230  14370     3049   \n",
      "mean                              NaN            NaN      NaN    NaN      NaN   \n",
      "std                               NaN            NaN      NaN    NaN      NaN   \n",
      "min                               NaN            NaN      NaN    NaN      NaN   \n",
      "25%                               NaN            NaN      NaN    NaN      NaN   \n",
      "50%                               NaN            NaN      NaN    NaN      NaN   \n",
      "75%                               NaN            NaN      NaN    NaN      NaN   \n",
      "max                               NaN            NaN      NaN    NaN      NaN   \n",
      "\n",
      "       state_id           d_1           d_2           d_3           d_4  ...  \\\n",
      "count     30490  30490.000000  30490.000000  30490.000000  30490.000000  ...   \n",
      "unique        3           NaN           NaN           NaN           NaN  ...   \n",
      "top          CA           NaN           NaN           NaN           NaN  ...   \n",
      "freq      12196           NaN           NaN           NaN           NaN  ...   \n",
      "mean        NaN      1.070220      1.041292      0.780026      0.833454  ...   \n",
      "std         NaN      5.126689      5.365468      3.667454      4.415141  ...   \n",
      "min         NaN      0.000000      0.000000      0.000000      0.000000  ...   \n",
      "25%         NaN      0.000000      0.000000      0.000000      0.000000  ...   \n",
      "50%         NaN      0.000000      0.000000      0.000000      0.000000  ...   \n",
      "75%         NaN      0.000000      0.000000      0.000000      0.000000  ...   \n",
      "max         NaN    360.000000    436.000000    207.000000    323.000000  ...   \n",
      "\n",
      "              d_1904        d_1905        d_1906        d_1907        d_1908  \\\n",
      "count   30490.000000  30490.000000  30490.000000  30490.000000  30490.000000   \n",
      "unique           NaN           NaN           NaN           NaN           NaN   \n",
      "top              NaN           NaN           NaN           NaN           NaN   \n",
      "freq             NaN           NaN           NaN           NaN           NaN   \n",
      "mean        1.370581      1.586159      1.693670      1.248245      1.232207   \n",
      "std         3.740017      4.097191      4.359809      3.276925      3.125471   \n",
      "min         0.000000      0.000000      0.000000      0.000000      0.000000   \n",
      "25%         0.000000      0.000000      0.000000      0.000000      0.000000   \n",
      "50%         0.000000      0.000000      0.000000      0.000000      0.000000   \n",
      "75%         1.000000      2.000000      2.000000      1.000000      1.000000   \n",
      "max       129.000000    160.000000    204.000000     98.000000    100.000000   \n",
      "\n",
      "              d_1909        d_1910        d_1911        d_1912        d_1913  \n",
      "count   30490.000000  30490.000000  30490.000000  30490.000000  30490.000000  \n",
      "unique           NaN           NaN           NaN           NaN           NaN  \n",
      "top              NaN           NaN           NaN           NaN           NaN  \n",
      "freq             NaN           NaN           NaN           NaN           NaN  \n",
      "mean        1.159167      1.149000      1.328862      1.605838      1.633158  \n",
      "std         2.876026      2.950364      3.358012      4.089422      3.812248  \n",
      "min         0.000000      0.000000      0.000000      0.000000      0.000000  \n",
      "25%         0.000000      0.000000      0.000000      0.000000      0.000000  \n",
      "50%         0.000000      0.000000      0.000000      0.000000      0.000000  \n",
      "75%         1.000000      1.000000      1.000000      2.000000      2.000000  \n",
      "max        88.000000     77.000000    141.000000    171.000000    130.000000  \n",
      "\n",
      "[11 rows x 1919 columns]\n"
     ]
    }
   ],
   "source": [
    "# Verificar el tamaño de las tablas originales\n",
    "print(\"Shape de calendar:\", calendar.shape)\n",
    "print(\"Shape de sell_prices:\", sell_prices.shape)\n",
    "print(\"Shape de sales_train_val:\", sales_train_val.shape)\n",
    "\n",
    "# Revisar los primeros registros para cada tabla\n",
    "print(\"\\nPrimeras filas de calendar:\")\n",
    "print(calendar.head())\n",
    "\n",
    "print(\"\\nPrimeras filas de sell_prices:\")\n",
    "print(sell_prices.head())\n",
    "\n",
    "print(\"\\nPrimeras filas de sales_train_val:\")\n",
    "print(sales_train_val.iloc[:, :10].head())\n",
    "\n",
    "# Revisar los tipos de datos\n",
    "print(\"\\nTipos de datos de calendar:\")\n",
    "print(calendar.dtypes)\n",
    "\n",
    "print(\"\\nTipos de datos de sell_prices:\")\n",
    "print(sell_prices.dtypes)\n",
    "\n",
    "print(\"\\nTipos de datos de sales_train_val:\")\n",
    "print(sales_train_val.dtypes)\n",
    "\n",
    "# Revisar estadísticas de las columnas numéricas\n",
    "print(\"\\nEstadísticas de calendar:\")\n",
    "print(calendar.describe(include='all'))\n",
    "\n",
    "print(\"\\nEstadísticas de sell_prices:\")\n",
    "print(sell_prices.describe(include='all'))\n",
    "\n",
    "print(\"\\nEstadísticas de sales_train_val:\")\n",
    "print(sales_train_val.describe(include='all'))\n"
   ]
  },
  {
   "cell_type": "code",
   "execution_count": 4,
   "metadata": {},
   "outputs": [
    {
     "name": "stdout",
     "output_type": "stream",
     "text": [
      "date               0\n",
      "wm_yr_wk           0\n",
      "weekday            0\n",
      "wday               0\n",
      "month              0\n",
      "year               0\n",
      "d                  0\n",
      "event_name_1    1807\n",
      "event_type_1    1807\n",
      "event_name_2    1964\n",
      "event_type_2    1964\n",
      "snap_CA            0\n",
      "snap_TX            0\n",
      "snap_WI            0\n",
      "dtype: int64\n",
      "date              object\n",
      "wm_yr_wk           int64\n",
      "weekday         category\n",
      "wday               int64\n",
      "month              int64\n",
      "year               int64\n",
      "d                  int32\n",
      "event_name_1    category\n",
      "event_type_1    category\n",
      "event_name_2    category\n",
      "event_type_2    category\n",
      "snap_CA            int64\n",
      "snap_TX            int64\n",
      "snap_WI            int64\n",
      "dtype: object\n"
     ]
    }
   ],
   "source": [
    "# Verificar y optimizar valores nulos en 'calendar'\n",
    "print(calendar.isnull().sum())\n",
    "calendar.fillna('N/A', inplace=True)\n",
    "\n",
    "# Convertir día a entero sin el prefijo que tenía y otras columnas a tipo categórico para reducir memoria\n",
    "calendar['d'] = calendar['d'].str.replace('d_', '').astype(int)\n",
    "categorical_columns = ['weekday', 'event_name_1', 'event_type_1', 'event_name_2', 'event_type_2']\n",
    "for col in categorical_columns:\n",
    "    calendar[col] = calendar[col].astype('category')\n",
    "\n",
    "# Revisar tipos de datos optimizados\n",
    "print(calendar.dtypes)"
   ]
  },
  {
   "cell_type": "code",
   "execution_count": 5,
   "metadata": {},
   "outputs": [
    {
     "name": "stdout",
     "output_type": "stream",
     "text": [
      "store_id      0\n",
      "item_id       0\n",
      "wm_yr_wk      0\n",
      "sell_price    0\n",
      "dtype: int64\n",
      "count    6.841121e+06\n",
      "mean     4.410952e+00\n",
      "std      3.408814e+00\n",
      "min      1.000000e-02\n",
      "25%      2.180000e+00\n",
      "50%      3.470000e+00\n",
      "75%      5.840000e+00\n",
      "max      1.073200e+02\n",
      "Name: sell_price, dtype: float64\n"
     ]
    }
   ],
   "source": [
    "# Verificar valores nulos y estadística de 'sell_prices'\n",
    "print(sell_prices.isnull().sum())\n",
    "print(sell_prices['sell_price'].describe())\n",
    "\n",
    "# Convertir 'wm_yr_wk' a entero y 'sell_price' a float\n",
    "sell_prices['wm_yr_wk'] = sell_prices['wm_yr_wk'].astype('int16')\n",
    "sell_prices['sell_price'] = sell_prices['sell_price'].astype('float32')\n",
    "\n",
    "# Optimizar tipos de datos categóricos\n",
    "sell_prices['store_id'] = sell_prices['store_id'].astype('category')\n",
    "sell_prices['item_id'] = sell_prices['item_id'].astype('category')"
   ]
  },
  {
   "cell_type": "code",
   "execution_count": 6,
   "metadata": {},
   "outputs": [],
   "source": [
    "# Transformar ventas a formato largo con melt para evitar el manejo de tantas columnas\n",
    "ventas_long = sales_train_val.melt(id_vars=['id', 'item_id', 'dept_id', 'cat_id', 'store_id', 'state_id'], \n",
    "                                   var_name='d', \n",
    "                                   value_name='sales')\n",
    "\n",
    "# Convertir día a entero eliminando el prefijo\n",
    "ventas_long['d'] = ventas_long['d'].str.replace('d_', '').astype(int)\n",
    "\n",
    "# Optimizar tipos de datos categóricos\n",
    "for col in ['item_id', 'dept_id', 'cat_id', 'store_id', 'state_id']:\n",
    "    ventas_long[col] = ventas_long[col].astype('category')"
   ]
  },
  {
   "cell_type": "code",
   "execution_count": 7,
   "metadata": {},
   "outputs": [],
   "source": [
    "# Merge de 'ventas_long' y 'calendar'\n",
    "calendar_cols = ['d', 'wm_yr_wk', 'weekday','wday', 'month', 'year', 'event_name_1', 'event_type_1', 'event_name_2', 'event_type_2', 'snap_CA', 'snap_TX', 'snap_WI']\n",
    "ventas_long = pd.merge(ventas_long, calendar[calendar_cols], on='d', how='left')\n"
   ]
  },
  {
   "cell_type": "code",
   "execution_count": 8,
   "metadata": {},
   "outputs": [],
   "source": [
    "# Merge de 'ventas_long' con 'sell_prices'\n",
    "sell_prices_cols = ['store_id', 'item_id', 'wm_yr_wk', 'sell_price']\n",
    "ventas_completa = pd.merge(ventas_long, sell_prices[sell_prices_cols], on=['store_id', 'item_id', 'wm_yr_wk'], how='left')\n"
   ]
  },
  {
   "cell_type": "code",
   "execution_count": 9,
   "metadata": {},
   "outputs": [
    {
     "name": "stdout",
     "output_type": "stream",
     "text": [
      "ventas_completa: (58327370, 21)\n",
      "id                object\n",
      "item_id         category\n",
      "dept_id         category\n",
      "cat_id          category\n",
      "store_id        category\n",
      "state_id        category\n",
      "d                  int32\n",
      "sales              int64\n",
      "wm_yr_wk           int64\n",
      "weekday         category\n",
      "wday               int64\n",
      "month              int64\n",
      "year               int64\n",
      "event_name_1    category\n",
      "event_type_1    category\n",
      "event_name_2    category\n",
      "event_type_2    category\n",
      "snap_CA            int64\n",
      "snap_TX            int64\n",
      "snap_WI            int64\n",
      "sell_price       float32\n",
      "dtype: object\n"
     ]
    }
   ],
   "source": [
    "# Optimizar 'sell_price' a float32\n",
    "ventas_completa['sell_price'] = ventas_completa['sell_price'].astype('float32')\n",
    "\n",
    "# Verificar la forma y las columnas de la tabla resultante\n",
    "print(\"ventas_completa:\", ventas_completa.shape)\n",
    "print(ventas_completa.dtypes)"
   ]
  },
  {
   "cell_type": "code",
   "execution_count": 10,
   "metadata": {},
   "outputs": [],
   "source": [
    "# Optimización de tipos de datos para minimizar el uso de memoria\n",
    "ventas_completa['sales'] = ventas_completa['sales'].astype('int32')\n",
    "ventas_completa['wm_yr_wk'] = ventas_completa['wm_yr_wk'].astype('int32')\n",
    "ventas_completa['month'] = ventas_completa['month'].astype('int8')"
   ]
  },
  {
   "cell_type": "code",
   "execution_count": 11,
   "metadata": {},
   "outputs": [
    {
     "name": "stdout",
     "output_type": "stream",
     "text": [
      "(1757059, 3)\n",
      "  store_id        item_id  wm_yr_wk\n",
      "0     CA_1  HOBBIES_1_001     11101\n",
      "1     CA_1  HOBBIES_1_002     11101\n",
      "2     CA_1  HOBBIES_1_003     11101\n",
      "3     CA_1  HOBBIES_1_004     11101\n",
      "4     CA_1  HOBBIES_1_005     11101\n",
      "Empty DataFrame\n",
      "Columns: [id, item_id, dept_id, cat_id, store_id, state_id, d, sales, wm_yr_wk, weekday, wday, month, year, event_name_1, event_type_1, event_name_2, event_type_2, snap_CA, snap_TX, snap_WI, sell_price]\n",
      "Index: []\n",
      "\n",
      "[0 rows x 21 columns]\n",
      "Filas con ventas pero sin precio asociado: 0\n"
     ]
    }
   ],
   "source": [
    "# Revisar combinaciones faltantes para verificar si hay ventas sin precio\n",
    "combinaciones_faltantes = ventas_completa[ventas_completa['sell_price'].isnull()][['store_id', 'item_id', 'wm_yr_wk']].drop_duplicates()\n",
    "print(combinaciones_faltantes.shape)\n",
    "print(combinaciones_faltantes.head())\n",
    "\n",
    "# Filtrar filas con `sell_price` nulo y `sales` mayor a 0\n",
    "ventas_con_ventas_sin_precio = ventas_completa[(ventas_completa['sales'] > 0) & (ventas_completa['sell_price'].isnull())]\n",
    "print(ventas_con_ventas_sin_precio.head())\n",
    "\n",
    "# Contar cuántas filas tienen ventas pero no tienen `sell_price`\n",
    "print(f\"Filas con ventas pero sin precio asociado: {ventas_con_ventas_sin_precio.shape[0]}\")\n"
   ]
  },
  {
   "cell_type": "code",
   "execution_count": 12,
   "metadata": {},
   "outputs": [],
   "source": [
    "# Filtrar filas que tienen sell_price no nulo, ventas mayor a 0 y eliminar '_validation' de los ids\n",
    "ventas_completa = ventas_completa[(ventas_completa['sell_price'].notnull()) & (ventas_completa['sales'] > 0)]\n",
    "ventas_completa['id'] = ventas_completa['id'].str.replace('_validation', '')\n",
    "# Guardar el DataFrame en un archivo CSV\n",
    "# ventas_completa.to_csv('ventas_completa.csv', index=False, encoding='utf-8')\n"
   ]
  },
  {
   "cell_type": "code",
   "execution_count": 13,
   "metadata": {},
   "outputs": [
    {
     "name": "stdout",
     "output_type": "stream",
     "text": [
      "                  d         sales      wm_yr_wk          wday         month  \\\n",
      "count  1.855028e+07  1.855028e+07  1.855028e+07  1.855028e+07  1.855028e+07   \n",
      "mean   1.064629e+03  3.541479e+00  1.136865e+04  3.905839e+00  6.347037e+00   \n",
      "std    5.385924e+02  6.214025e+00  1.471289e+02  2.033604e+00  3.459276e+00   \n",
      "min    1.000000e+00  1.000000e+00  1.110100e+04  1.000000e+00  1.000000e+00   \n",
      "25%    6.240000e+02  1.000000e+00  1.123800e+04  2.000000e+00  3.000000e+00   \n",
      "50%    1.111000e+03  2.000000e+00  1.140200e+04  4.000000e+00  6.000000e+00   \n",
      "75%    1.535000e+03  4.000000e+00  1.151100e+04  6.000000e+00  9.000000e+00   \n",
      "max    1.913000e+03  7.630000e+02  1.161300e+04  7.000000e+00  1.200000e+01   \n",
      "\n",
      "               year       snap_CA       snap_TX       snap_WI    sell_price  \n",
      "count  1.855028e+07  1.855028e+07  1.855028e+07  1.855028e+07  1.855028e+07  \n",
      "mean   2.013505e+03  3.353067e-01  3.368322e-01  3.364867e-01  3.821744e+00  \n",
      "std    1.502883e+00  4.720976e-01  4.726270e-01  4.725076e-01  3.066388e+00  \n",
      "min    2.011000e+03  0.000000e+00  0.000000e+00  0.000000e+00  1.000000e-02  \n",
      "25%    2.012000e+03  0.000000e+00  0.000000e+00  0.000000e+00  1.970000e+00  \n",
      "50%    2.014000e+03  0.000000e+00  0.000000e+00  0.000000e+00  2.970000e+00  \n",
      "75%    2.015000e+03  1.000000e+00  1.000000e+00  1.000000e+00  4.880000e+00  \n",
      "max    2.016000e+03  1.000000e+00  1.000000e+00  1.000000e+00  1.073200e+02  \n",
      "(18550276, 21)\n",
      "id                object\n",
      "item_id         category\n",
      "dept_id         category\n",
      "cat_id          category\n",
      "store_id        category\n",
      "state_id        category\n",
      "d                  int32\n",
      "sales              int32\n",
      "wm_yr_wk           int32\n",
      "weekday         category\n",
      "wday               int64\n",
      "month               int8\n",
      "year               int64\n",
      "event_name_1    category\n",
      "event_type_1    category\n",
      "event_name_2    category\n",
      "event_type_2    category\n",
      "snap_CA            int64\n",
      "snap_TX            int64\n",
      "snap_WI            int64\n",
      "sell_price       float32\n",
      "dtype: object\n"
     ]
    }
   ],
   "source": [
    "# Descripción de la tabla resultante\n",
    "print(ventas_completa.describe())\n",
    "print(ventas_completa.shape)\n",
    "print(ventas_completa.dtypes)"
   ]
  },
  {
   "cell_type": "code",
   "execution_count": 14,
   "metadata": {},
   "outputs": [
    {
     "name": "stdout",
     "output_type": "stream",
     "text": [
      "Diferencia relativa entre California y el resto de los estados\n",
      "  state_id  valor_ventas  porcentaje_ventas  diferencia_relativa\n",
      "0       CA  8.424556e+07          44.888695             0.000000\n",
      "1       TX  5.404413e+07          28.796417            55.882921\n",
      "2       WI  4.938688e+07          26.314888            70.582885\n"
     ]
    }
   ],
   "source": [
    "# Crear la columna de valor de ventas multiplicando las ventas por el precio de venta\n",
    "ventas_completa['valor_ventas'] = ventas_completa['sales'] * ventas_completa['sell_price']\n",
    "\n",
    "# Calcular ventas totales por estado y el porcentaje de ventas por estado\n",
    "ventas_por_estado = ventas_completa.groupby('state_id')['valor_ventas'].sum().reset_index()\n",
    "total_ventas = ventas_por_estado['valor_ventas'].sum()\n",
    "ventas_por_estado['porcentaje_ventas'] = (ventas_por_estado['valor_ventas'] / total_ventas) * 100\n",
    "\n",
    "# Calcular el estado con más ventas y calcular la diferencia relativa en porcentaje con respecto al estado con más ventas\n",
    "estado_top = ventas_por_estado.loc[ventas_por_estado['valor_ventas'].idxmax()] \n",
    "ventas_por_estado['diferencia_relativa'] = ((estado_top['porcentaje_ventas'] - ventas_por_estado['porcentaje_ventas']) / ventas_por_estado['porcentaje_ventas']) * 100\n",
    "\n",
    "print(\"Diferencia relativa entre California y el resto de los estados\")\n",
    "print(ventas_por_estado)\n"
   ]
  },
  {
   "cell_type": "code",
   "execution_count": 15,
   "metadata": {},
   "outputs": [
    {
     "name": "stdout",
     "output_type": "stream",
     "text": [
      "Diferencia relativa entre la categoría de alimentos y el resto de las categorías\n",
      "      cat_id     sales  porcentaje_ventas  diferencia_relativa\n",
      "0      FOODS  45089939          68.634840             0.000000\n",
      "1    HOBBIES   6124800           9.323026           636.186308\n",
      "2  HOUSEHOLD  14480670          22.042134           211.380199\n"
     ]
    }
   ],
   "source": [
    "# Calcular ventas totales por categoría y el porcentaje de ventas por categoría\n",
    "ventas_por_categoria = ventas_completa.groupby('cat_id')['sales'].sum().reset_index()\n",
    "total_ventas = ventas_por_categoria['sales'].sum()\n",
    "ventas_por_categoria['porcentaje_ventas'] = (ventas_por_categoria['sales'] / total_ventas) * 100\n",
    "categoria_top = ventas_por_categoria.loc[ventas_por_categoria['sales'].idxmax()]\n",
    "\n",
    "# Calcular la diferencia relativa en porcentaje con respecto a la categoría con más ventas\n",
    "ventas_por_categoria['diferencia_relativa'] = ((categoria_top['porcentaje_ventas'] - ventas_por_categoria['porcentaje_ventas']) / ventas_por_categoria['porcentaje_ventas']) * 100\n",
    "print(\"Diferencia relativa entre la categoría de alimentos y el resto de las categorías\")\n",
    "print(ventas_por_categoria)\n"
   ]
  },
  {
   "cell_type": "code",
   "execution_count": 16,
   "metadata": {},
   "outputs": [
    {
     "name": "stdout",
     "output_type": "stream",
     "text": [
      "Promedio de ventas por tienda por estado\n",
      "  state_id  avg_sales_per_tienda\n",
      "0       CA            3951480.47\n",
      "1       TX            3379870.35\n",
      "2       WI            3088610.35\n"
     ]
    }
   ],
   "source": [
    "# Crear la columna de ventas totales multiplicando las ventas por el precio de venta\n",
    "ventas_completa['total_sales'] = ventas_completa['sell_price'] * ventas_completa['sales']\n",
    "\n",
    "# Calcular el total de ventas por estado\n",
    "ventas_por_estado = ventas_completa.groupby('state_id').agg({'total_sales': 'sum'}).reset_index()\n",
    "ventas_por_estado['num_tiendas'] = ventas_por_estado['state_id'].apply(lambda x: 4 if x == 'CA' else 3)\n",
    "\n",
    "# Calcular el promedio de ventas por tienda considerando los 5 años 4 meses de datos\n",
    "ventas_por_estado['avg_sales_per_tienda'] = ventas_por_estado['total_sales'] / (ventas_por_estado['num_tiendas'] * 5.33)\n",
    "pd.set_option('display.float_format', '{:.2f}'.format)\n",
    "print(\"Promedio de ventas por tienda por estado\")\n",
    "print(ventas_por_estado[['state_id', 'avg_sales_per_tienda']])\n"
   ]
  },
  {
   "cell_type": "code",
   "execution_count": 17,
   "metadata": {},
   "outputs": [
    {
     "name": "stdout",
     "output_type": "stream",
     "text": [
      "Contraste entre Ventas Totales y Ventas SNAP\n",
      "   state  ventas_totales_estado  ventas_snap_activas  porcentaje_ventas_snap\n",
      "0     CA            84245563.70          29046890.01                   34.48\n",
      "1     TX            54044126.95          19039431.83                   35.23\n",
      "2     WI            49386879.48          18358220.97                   37.17\n",
      "3  Total           187676570.13          66444542.81                   35.40\n"
     ]
    }
   ],
   "source": [
    "# Definir un diccionario de mapeo para los estados y sus respectivas columnas SNAP\n",
    "snap_columns = {\n",
    "    'CA': 'snap_CA',\n",
    "    'TX': 'snap_TX',\n",
    "    'WI': 'snap_WI'\n",
    "}\n",
    "\n",
    "resultados_snap = []\n",
    "\n",
    "# Iterar por cada estado y su respectiva columna SNAP y sumar las ventas realizadas bajo SNAP\n",
    "for state, snap_column in snap_columns.items():\n",
    "    ventas_snap_activas = ventas_completa[(ventas_completa['state_id'] == state) & (ventas_completa[snap_column] == 1)]\n",
    "    ventas_totales_snap = ventas_snap_activas['total_sales'].sum()\n",
    "    ventas_totales_estado = ventas_completa[ventas_completa['state_id'] == state]['total_sales'].sum()\n",
    "\n",
    "    # Calcular el porcentaje de ventas SNAP activas con respecto a las ventas totales\n",
    "    porcentaje_ventas_snap = (ventas_totales_snap / ventas_totales_estado) * 100 if ventas_totales_estado != 0 else 0\n",
    "    \n",
    "\n",
    "    resultados_snap.append({\n",
    "        'state': state,\n",
    "        'ventas_totales_estado': ventas_totales_estado,\n",
    "        'ventas_snap_activas': ventas_totales_snap,\n",
    "        'porcentaje_ventas_snap': porcentaje_ventas_snap\n",
    "    })\n",
    "\n",
    "# Crear un DataFrame con los resultados y sumar las ventas totales de todos los estados\n",
    "df_resultados_snap = pd.DataFrame(resultados_snap)\n",
    "ventas_totales_global = df_resultados_snap['ventas_totales_estado'].sum()\n",
    "ventas_snap_global = df_resultados_snap['ventas_snap_activas'].sum()\n",
    "\n",
    "# Calcular el porcentaje de ventas totales bajo SNAP en comparación con las ventas totales globales\n",
    "porcentaje_global_snap = (ventas_snap_global / ventas_totales_global) * 100\n",
    "df_resultados_snap.loc[len(df_resultados_snap)] = ['Total', ventas_totales_global, ventas_snap_global, porcentaje_global_snap]\n",
    "print(\"Contraste entre Ventas Totales y Ventas SNAP\")\n",
    "print(df_resultados_snap)"
   ]
  },
  {
   "cell_type": "code",
   "execution_count": 18,
   "metadata": {},
   "outputs": [
    {
     "name": "stdout",
     "output_type": "stream",
     "text": [
      "Promedio de población:\n",
      " California   38412469.67\n",
      "Texas        26828075.33\n",
      "Wisconsin     5766784.67\n",
      "dtype: float64\n",
      "Cada individuo en promedio gastó:\n",
      " California   2.19\n",
      "Texas        2.01\n",
      "Wisconsin    8.56\n",
      "dtype: float64\n"
     ]
    }
   ],
   "source": [
    "# Calcular la población promedio a lo largo de los años para cada estado\n",
    "average_population = population_data.mean(numeric_only=True)\n",
    "print(\"Promedio de población:\\n\",average_population.drop('Year'))\n",
    "\n",
    "# Mapeo de código de estados\n",
    "state_mapping = {\n",
    "    'CA': 'California',\n",
    "    'TX': 'Texas',\n",
    "    'WI': 'Wisconsin'\n",
    "}\n",
    "ventas_completa['state_name'] = ventas_completa['state_id'].map(state_mapping)\n",
    "\n",
    "# Calcular ventas totales y el gasto per cápita dividiendo las ventas totales por la población promedio\n",
    "total_sales_per_state = ventas_completa.groupby('state_name')['total_sales'].sum()\n",
    "per_capita_spending = total_sales_per_state / average_population\n",
    "print(\"Cada individuo en promedio gastó:\\n\",per_capita_spending.drop('Year'))\n"
   ]
  },
  {
   "cell_type": "code",
   "execution_count": 19,
   "metadata": {},
   "outputs": [
    {
     "name": "stdout",
     "output_type": "stream",
     "text": [
      "Ventas totales por mes bajo SNAP\n",
      "    month  total_snap\n",
      "3       4     1819315\n",
      "2       3     1794950\n",
      "1       2     1770132\n",
      "9      10     1524414\n",
      "10     11     1512550\n",
      "11     12     1495438\n",
      "8       9     1494660\n",
      "7       8     1477605\n",
      "6       7     1470779\n",
      "0       1     1469068\n",
      "5       6     1466711\n",
      "4       5     1414661\n"
     ]
    }
   ],
   "source": [
    "# Agrupar por mes y crear una columna con los valores aplicables de las tres columnas SNAP\n",
    "snap_por_mes = ventas_completa.groupby(['month'])[['snap_CA', 'snap_TX', 'snap_WI']].sum().reset_index()\n",
    "snap_por_mes['total_snap'] = snap_por_mes['snap_CA'] + snap_por_mes['snap_TX'] + snap_por_mes['snap_WI']\n",
    "\n",
    "# Ordenar por la columna 'total_snap' en orden descendente\n",
    "snap_por_mes = snap_por_mes.sort_values(by='total_snap', ascending=False)\n",
    "print(\"Ventas totales por mes bajo SNAP\")\n",
    "print(snap_por_mes[[ 'month', 'total_snap']])\n"
   ]
  },
  {
   "cell_type": "code",
   "execution_count": 20,
   "metadata": {},
   "outputs": [
    {
     "name": "stdout",
     "output_type": "stream",
     "text": [
      "Diferencia porcentual relativa año a año\n",
      "   year  total_sales  diferencia_porcentual\n",
      "0  2011  23891336.11                    NaN\n",
      "1  2012  32649200.88                  36.66\n",
      "2  2013  35923373.36                  10.03\n",
      "3  2014  37861913.22                   5.40\n",
      "4  2015  42416456.58                  12.03\n"
     ]
    }
   ],
   "source": [
    "# Agrupar las ventas totales por año, exceptuando 2016\n",
    "ventas_anuales = ventas_completa[ventas_completa['year'] < 2016].groupby('year')['total_sales'].sum().reset_index()\n",
    "\n",
    "# Diferencia porcentual relativa año a año\n",
    "ventas_anuales['diferencia_porcentual'] = ventas_anuales['total_sales'].pct_change() * 100\n",
    "print(\"Diferencia porcentual relativa año a año\")\n",
    "print(ventas_anuales)"
   ]
  },
  {
   "cell_type": "code",
   "execution_count": 21,
   "metadata": {},
   "outputs": [
    {
     "name": "stdout",
     "output_type": "stream",
     "text": [
      "Comparación de ventas y cambios relativos positivos entre top y bottom meses:\n",
      "   Mes  Ventas Totales  Cambio Relativo (%)    Tipo\n",
      "0    3     18553991.46                 0.00     Top\n",
      "1    4     17267038.87                 7.45     Top\n",
      "2    2     17033711.63                 1.37     Top\n",
      "3    6     14567578.69                16.93  Bottom\n",
      "4   11     14462801.56                 0.72  Bottom\n",
      "5    5     14394790.09                 0.47  Bottom\n"
     ]
    }
   ],
   "source": [
    "# Agrupar ventas totales por mes y ordenar los meses por ventas en orden descendente\n",
    "ventas_mensuales = ventas_completa.groupby('month')['total_sales'].sum().reset_index()\n",
    "ventas_mensuales = ventas_mensuales.sort_values(by='total_sales', ascending=False)\n",
    "\n",
    "# Seleccionar los 3 meses con más ventas y los 3 meses con menos ventas\n",
    "top_3_meses = ventas_mensuales.head(3)\n",
    "bottom_3_meses = ventas_mensuales.tail(3)\n",
    "meses_comparacion = pd.concat([top_3_meses, bottom_3_meses]).reset_index(drop=True)\n",
    "\n",
    "# Calcular el porcentaje de cambio porcentual relativo entre cada mes y el mes anterior\n",
    "meses_comparacion['porcentaje_cambio'] = (meses_comparacion['total_sales'].shift(1) - meses_comparacion['total_sales']) / meses_comparacion['total_sales'] * 100\n",
    "meses_comparacion['porcentaje_cambio'] = meses_comparacion['porcentaje_cambio'].fillna(0)\n",
    "labels = ['Top'] * 3 + ['Bottom'] * 3\n",
    "meses_comparacion['Tipo'] = labels\n",
    "meses_comparacion.columns = ['Mes', 'Ventas Totales', 'Cambio Relativo (%)', 'Tipo']\n",
    "\n",
    "print(\"Comparación de ventas y cambios relativos positivos entre top y bottom meses:\")\n",
    "print(meses_comparacion)\n"
   ]
  },
  {
   "cell_type": "code",
   "execution_count": 22,
   "metadata": {},
   "outputs": [
    {
     "name": "stdout",
     "output_type": "stream",
     "text": [
      "Comparación de ventas y cambios relativos positivos entre los días de la semana:\n",
      "   Día de la Semana  Ventas Totales($)  Cambio Relativo (%)\n",
      "1                 2        32618106.54                 0.00\n",
      "0                 1        32478936.48                 0.43\n",
      "6                 7        26509174.05                22.52\n",
      "2                 3        25734141.43                 3.01\n",
      "3                 4        23589340.54                 9.09\n",
      "5                 6        23424763.52                 0.70\n",
      "4                 5        23322107.57                 0.44\n"
     ]
    }
   ],
   "source": [
    "# Agrupar ventas totales por día de la semana\n",
    "ventas_por_dia_semana = ventas_completa.groupby('wday')['total_sales'].sum().reset_index()\n",
    "\n",
    "# Ordenar los días de la semana por ventas en orden descendente\n",
    "ventas_por_dia_semana = ventas_por_dia_semana.sort_values(by='total_sales', ascending=False)\n",
    "\n",
    "# Calcular el porcentaje de cambio positivo entre cada día consecutivo\n",
    "ventas_por_dia_semana['porcentaje_cambio'] = (ventas_por_dia_semana['total_sales'].shift(1) - ventas_por_dia_semana['total_sales']) / ventas_por_dia_semana['total_sales'] * 100\n",
    "ventas_por_dia_semana['porcentaje_cambio'] = ventas_por_dia_semana['porcentaje_cambio'].fillna(0)\n",
    "ventas_por_dia_semana.columns = ['Día de la Semana', 'Ventas Totales($)', 'Cambio Relativo (%)']\n",
    "print(\"Comparación de ventas y cambios relativos positivos entre los días de la semana:\")\n",
    "print(ventas_por_dia_semana)\n"
   ]
  },
  {
   "cell_type": "code",
   "execution_count": 23,
   "metadata": {},
   "outputs": [
    {
     "name": "stdout",
     "output_type": "stream",
     "text": [
      "Total de ventas con eventos: $14381936.478863187\n",
      "Total de ventas global: $187676570.12839314\n",
      "Porcentaje de ventas con eventos: 7.66%\n"
     ]
    }
   ],
   "source": [
    "# Filtrar ventas donde event_name_1 o event_name_2 no sean 'N/A' y calcular el total de ventas con eventos\n",
    "ventas_evento = ventas_completa[(ventas_completa['event_name_1'] != 'N/A') | (ventas_completa['event_name_2'] != 'N/A')]\n",
    "ventas_totales_evento = ventas_evento['total_sales'].sum()\n",
    "ventas_totales_global = ventas_completa['total_sales'].sum()\n",
    "\n",
    "# Calcular el porcentaje de ventas con eventos con respecto al total de ventas\n",
    "porcentaje_ventas_evento = (ventas_totales_evento / ventas_totales_global) * 100\n",
    "print(f\"Total de ventas con eventos: ${ventas_totales_evento}\")\n",
    "print(f\"Total de ventas global: ${ventas_totales_global}\")\n",
    "print(f\"Porcentaje de ventas con eventos: {porcentaje_ventas_evento:.2f}%\")\n"
   ]
  },
  {
   "cell_type": "code",
   "execution_count": 24,
   "metadata": {},
   "outputs": [
    {
     "name": "stdout",
     "output_type": "stream",
     "text": [
      "Predicción de ventas totales para 2016: $49230542.603765115\n"
     ]
    }
   ],
   "source": [
    "# Agrupar por año y mes para calcular las ventas totales mensuales\n",
    "ventas_mensuales = ventas_completa.groupby(['year', 'month']).agg({'total_sales': 'sum'}).reset_index()\n",
    "ventas_previas = ventas_mensuales[ventas_mensuales['year'] < 2016]\n",
    "\n",
    "# Calcular ventas totales entre enero-abril y mayo-diciembre para cada año de 2011 a 2015\n",
    "ventas_enero_abril = ventas_previas[(ventas_previas['month'] >= 1) & (ventas_previas['month'] <= 4)]\n",
    "ventas_mayo_diciembre = ventas_previas[(ventas_previas['month'] >= 5) & (ventas_previas['month'] <= 12)]\n",
    "\n",
    "ventas_enero_abril_anual = ventas_enero_abril.groupby('year')['total_sales'].sum().reset_index(name='ventas_enero_abril')\n",
    "ventas_mayo_diciembre_anual = ventas_mayo_diciembre.groupby('year')['total_sales'].sum().reset_index(name='ventas_mayo_diciembre')\n",
    "\n",
    "# Calcular el factor de cambio promedio entre mayo-diciembre y enero-abril Men el nuevo merge\n",
    "ventas_anual = pd.merge(ventas_enero_abril_anual, ventas_mayo_diciembre_anual, on='year') \n",
    "ventas_anual['factor_mayo_diciembre'] = ventas_anual['ventas_mayo_diciembre'] / ventas_anual['ventas_enero_abril']\n",
    "factor_promedio = ventas_anual['factor_mayo_diciembre'].mean()\n",
    "\n",
    "# Obtener las ventas reales de enero a abril y predecir las de mayo a diciembre de 2016\n",
    "ventas_2016_enero_abril = ventas_mensuales[(ventas_mensuales['year'] == 2016) & (ventas_mensuales['month'] <= 4)]['total_sales'].sum()\n",
    "prediccion_ventas_mayo_diciembre_2016 = ventas_2016_enero_abril * factor_promedio\n",
    "prediccion_total_2016 = ventas_2016_enero_abril + prediccion_ventas_mayo_diciembre_2016\n",
    "print(f\"Predicción de ventas totales para 2016: ${prediccion_total_2016}\")"
   ]
  }
 ],
 "metadata": {
  "kernelspec": {
   "display_name": "Python 3",
   "language": "python",
   "name": "python3"
  },
  "language_info": {
   "codemirror_mode": {
    "name": "ipython",
    "version": 3
   },
   "file_extension": ".py",
   "mimetype": "text/x-python",
   "name": "python",
   "nbconvert_exporter": "python",
   "pygments_lexer": "ipython3",
   "version": "3.11.0b1"
  }
 },
 "nbformat": 4,
 "nbformat_minor": 2
}
